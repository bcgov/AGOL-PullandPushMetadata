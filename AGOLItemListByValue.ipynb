{
 "cells": [
  {
   "cell_type": "code",
   "execution_count": 1,
   "metadata": {},
   "outputs": [],
   "source": [
    "#jing Zhang\n",
    "#2019 July\n",
    "\n",
    "\n",
    "#import AGOL module\n",
    "from arcgis.gis import GIS\n",
    "from arcgis.gis import Group\n",
    "import pandas as pd\n",
    "import datetime"
   ]
  },
  {
   "cell_type": "code",
   "execution_count": null,
   "metadata": {},
   "outputs": [],
   "source": [
    "#log on to your account,type in your username and password.\n",
    "agol = GIS(username=\"\")"
   ]
  },
  {
   "cell_type": "code",
   "execution_count": null,
   "metadata": {
    "scrolled": true
   },
   "outputs": [],
   "source": [
    "#search by title\n",
    "SBOT_BCG=agol.groups.search(\"title:\")\n",
    "SBOT_BCG\n",
    "Group=SBOT_BCG[0]\n",
    "Group"
   ]
  },
  {
   "cell_type": "code",
   "execution_count": null,
   "metadata": {},
   "outputs": [],
   "source": [
    "items=Group.content()\n",
    "items"
   ]
  },
  {
   "cell_type": "code",
   "execution_count": null,
   "metadata": {},
   "outputs": [],
   "source": [
    "items[0]"
   ]
  },
  {
   "cell_type": "code",
   "execution_count": null,
   "metadata": {},
   "outputs": [],
   "source": [
    "items[0].tags"
   ]
  },
  {
   "cell_type": "code",
   "execution_count": null,
   "metadata": {},
   "outputs": [],
   "source": [
    "NumberofItems=len(items)\n",
    "NumberofItems"
   ]
  },
  {
   "cell_type": "code",
   "execution_count": null,
   "metadata": {},
   "outputs": [],
   "source": [
    "title=[]\n",
    "itemid=[]\n",
    "url=[]\n",
    "itemtype=[]\n",
    "description=[]\n",
    "summary=[]\n",
    "tags=[]\n",
    "termofuse=[]\n",
    "credit=[]\n",
    "counter=0\n",
    "searchkeyword=\"Water\"\n",
    "for item in items:\n",
    "    if searchkeyword in item.tags or searchkeyword in item.title or searchkeyword+\" \" in item.tags or \" \"+searchkeyword+\" \" in item.title:\n",
    "        title.append(item.title)\n",
    "        itemid.append(item.itemid)\n",
    "        if item.url is None:\n",
    "            url.append(\"https://governmentofbc.maps.arcgis.com/home/item.html?id=\"+item.itemid)\n",
    "        else:\n",
    "            url.append(item.url)\n",
    "        itemtype.append(item.type)\n",
    "        if item.description is not None:\n",
    "            testhtml =item.description\n",
    "            #cleaned = cleanme(testhtml)\n",
    "            description.append(testhtml)\n",
    "        else:\n",
    "            description.append(None)\n",
    "        summary.append(item.snippet)\n",
    "        tags.append(item.tags)\n",
    "        termofuse.append(item.licenseInfo)\n",
    "        credit.append(item.accessInformation)"
   ]
  },
  {
   "cell_type": "code",
   "execution_count": null,
   "metadata": {},
   "outputs": [],
   "source": [
    "#termofuse\n",
    "items[0].licenseInfo"
   ]
  },
  {
   "cell_type": "code",
   "execution_count": null,
   "metadata": {},
   "outputs": [],
   "source": [
    "#create a data frame\n",
    "df=pd.DataFrame()"
   ]
  },
  {
   "cell_type": "code",
   "execution_count": null,
   "metadata": {},
   "outputs": [],
   "source": [
    "#assignable the dataframe\n",
    "df[\"Title\"]=title\n",
    "df['Item ID']=itemid\n",
    "df[\"Item Type\"]=itemtype\n",
    "df['URL']=url\n",
    "df[\"Summary\"]=summary\n",
    "df[\"Description\"]=description\n",
    "df[\"Tags\"]=tags\n",
    "df[\"Term of Use\"]=termofuse\n",
    "df[\"Credits\"]=credit\n",
    "df[\"Public\"]=None\n",
    "df[\"Data Catalog Name\"]=None\n",
    "df"
   ]
  },
  {
   "cell_type": "code",
   "execution_count": null,
   "metadata": {},
   "outputs": [],
   "source": [
    "#set folder path and filename\n",
    "folderpath=r\"H:\\Demo\"\n",
    "filename=\"\\Result\"\n"
   ]
  },
  {
   "cell_type": "code",
   "execution_count": null,
   "metadata": {},
   "outputs": [],
   "source": [
    "#adding current dates to filename\n",
    "x = datetime.datetime.now()\n",
    "y=str(x.strftime(\"%x\"))\n",
    "date=y.replace(\"/\",\"\")"
   ]
  },
  {
   "cell_type": "code",
   "execution_count": null,
   "metadata": {},
   "outputs": [],
   "source": [
    "#export to excel\n",
    "df.to_excel(folderpath+filename+date+\".xlsx\")"
   ]
  },
  {
   "cell_type": "code",
   "execution_count": null,
   "metadata": {},
   "outputs": [],
   "source": []
  }
 ],
 "metadata": {
  "kernelspec": {
   "display_name": "Python 3",
   "language": "python",
   "name": "python3"
  },
  "language_info": {
   "codemirror_mode": {
    "name": "ipython",
    "version": 3
   },
   "file_extension": ".py",
   "mimetype": "text/x-python",
   "name": "python",
   "nbconvert_exporter": "python",
   "pygments_lexer": "ipython3",
   "version": "3.6.8"
  }
 },
 "nbformat": 4,
 "nbformat_minor": 2
}
