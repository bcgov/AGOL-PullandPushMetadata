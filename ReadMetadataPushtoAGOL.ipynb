{
 "cells": [
  {
   "cell_type": "code",
   "execution_count": 1,
   "metadata": {},
   "outputs": [],
   "source": [
    "##jing Zhang\n",
    "##2019 July"
   ]
  },
  {
   "cell_type": "code",
   "execution_count": 2,
   "metadata": {},
   "outputs": [],
   "source": [
    "#import AGOL module\n",
    "from arcgis.gis import GIS\n",
    "from arcgis.gis import Group\n",
    "import pandas as pd\n",
    "import datetime\n",
    "import html\n",
    "from html.parser import HTMLParser"
   ]
  },
  {
   "cell_type": "code",
   "execution_count": null,
   "metadata": {},
   "outputs": [],
   "source": [
    "#log on to your account,type in your username and password.\n",
    "agol = GIS(username=\"\")"
   ]
  },
  {
   "cell_type": "code",
   "execution_count": null,
   "metadata": {},
   "outputs": [],
   "source": [
    "#reading excel file from local folder\n",
    "df=pd.read_excel(r'H:\\Demo\\Result.xlsx')"
   ]
  },
  {
   "cell_type": "code",
   "execution_count": null,
   "metadata": {},
   "outputs": [],
   "source": [
    "df"
   ]
  },
  {
   "cell_type": "code",
   "execution_count": null,
   "metadata": {
    "scrolled": true
   },
   "outputs": [],
   "source": [
    "for index, row in df.iterrows():\n",
    "    print(row[\"Tags\"])"
   ]
  },
  {
   "cell_type": "code",
   "execution_count": null,
   "metadata": {
    "scrolled": true
   },
   "outputs": [],
   "source": [
    "for index, row in df.iterrows():\n",
    "    #Formattag=row[\"Tags\"].replace(\"[\",\"\").replace(\"'\",\"\").replace(\"]\",\"\")\n",
    "    agol.content.get(row[\"Item ID\"]).update(item_properties={'title':row[\"Title\"],'snippet':row[\"Summary\"],'description':row[\"Description\"],'tags':row[\"Tags\"],'accessInformation':row[\"Credits\"],'licenseInfo':row[\"Term of Use\"]}) "
   ]
  },
  {
   "cell_type": "code",
   "execution_count": null,
   "metadata": {},
   "outputs": [],
   "source": [
    "#Test to get item by itemID and check if item detail page is updated\n",
    "\n",
    "X=agol.content.get('')"
   ]
  },
  {
   "cell_type": "code",
   "execution_count": null,
   "metadata": {},
   "outputs": [],
   "source": [
    "X"
   ]
  },
  {
   "cell_type": "code",
   "execution_count": null,
   "metadata": {},
   "outputs": [],
   "source": [
    "X.update(item_properties={'accessInformation':'Published by the Ministry of Forests, Lands, Natural Resource Operations and Rural Development - Regional Operations - South Coast'})"
   ]
  },
  {
   "cell_type": "code",
   "execution_count": null,
   "metadata": {},
   "outputs": [],
   "source": []
  }
 ],
 "metadata": {
  "kernelspec": {
   "display_name": "Python 3",
   "language": "python",
   "name": "python3"
  },
  "language_info": {
   "codemirror_mode": {
    "name": "ipython",
    "version": 3
   },
   "file_extension": ".py",
   "mimetype": "text/x-python",
   "name": "python",
   "nbconvert_exporter": "python",
   "pygments_lexer": "ipython3",
   "version": "3.6.8"
  }
 },
 "nbformat": 4,
 "nbformat_minor": 2
}
